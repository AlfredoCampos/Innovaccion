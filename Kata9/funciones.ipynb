{
 "cells": [
  {
   "cell_type": "code",
   "execution_count": null,
   "metadata": {},
   "outputs": [],
   "source": []
  },
  {
   "cell_type": "markdown",
   "metadata": {},
   "source": [
    "### Trabajar con argumentos en funciones"
   ]
  },
  {
   "cell_type": "code",
   "execution_count": 4,
   "metadata": {},
   "outputs": [
    {
     "name": "stdout",
     "output_type": "stream",
     "text": [
      "60.0\n"
     ]
    }
   ],
   "source": [
    "\n",
    "def inf_combustible(tanq1, tanq2, tank3 ):\n",
    "    suma_tanques=(tanq1+ tanq2+ tank3 )\n",
    "    prom=promedio(suma_tanques, 3)\n",
    "    return prom\n",
    "##Se crea una nueva funcion para el promedio\n",
    "def promedio (suma, num_args):\n",
    "    return suma/num_args\n",
    "\n",
    "#Llamamos a la función\n",
    "\n",
    "print(inf_combustible(50, 60, 70))"
   ]
  },
  {
   "cell_type": "markdown",
   "metadata": {},
   "source": [
    "### Argumentos de palabra clave"
   ]
  },
  {
   "cell_type": "code",
   "execution_count": 11,
   "metadata": {},
   "outputs": [
    {
     "name": "stdout",
     "output_type": "stream",
     "text": [
      "*******Informe completo de la nave********\n",
      "tanque_derecho: 14\n",
      "tanque_central: 30\n",
      "temperatura: 64\n"
     ]
    }
   ],
   "source": [
    "def inf_completo(**kwComponenteNave):\n",
    "    print(f\"\"\"*******Informe completo de la nave********\"\"\")\n",
    "    for componente in kwComponenteNave.keys():\n",
    "        print(f\"\"\"{componente}: {kwComponenteNave[componente]}\"\"\")\n",
    "\n",
    "inf_completo(tanque_derecho=14, tanque_central=30, temperatura=64)\n"
   ]
  }
 ],
 "metadata": {
  "interpreter": {
   "hash": "a754736ac4e3f9e52bc85e35060990a57dded2c3c169eaa767769380f3d96905"
  },
  "kernelspec": {
   "display_name": "Python 3.10.2 64-bit",
   "language": "python",
   "name": "python3"
  },
  "language_info": {
   "codemirror_mode": {
    "name": "ipython",
    "version": 3
   },
   "file_extension": ".py",
   "mimetype": "text/x-python",
   "name": "python",
   "nbconvert_exporter": "python",
   "pygments_lexer": "ipython3",
   "version": "3.10.2"
  },
  "orig_nbformat": 4
 },
 "nbformat": 4,
 "nbformat_minor": 2
}
