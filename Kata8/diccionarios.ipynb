{
 "cells": [
  {
   "cell_type": "code",
   "execution_count": null,
   "metadata": {},
   "outputs": [],
   "source": []
  },
  {
   "cell_type": "markdown",
   "metadata": {},
   "source": [
    "### Crear y modificar un diccionario de Python"
   ]
  },
  {
   "cell_type": "code",
   "execution_count": 8,
   "metadata": {},
   "outputs": [
    {
     "name": "stdout",
     "output_type": "stream",
     "text": [
      "name: mars\n",
      "circunferencia polar: 6752\n"
     ]
    }
   ],
   "source": [
    "planet={\n",
    "    'name':'mars',\n",
    "    'moons':2\n",
    "}\n",
    "\n",
    "#print('name: '+planet['name']+'\\nmoons: '+str(planet['moons']) )\n",
    "\n",
    "# Se agrega una mueva clave\n",
    "\n",
    "planet['circunferencia']={\n",
    "                'polar':6752,\n",
    "                'ecuatorial':6792\n",
    "                }\n",
    "\n",
    "print('name: '+planet['name']+'\\ncircunferencia polar: '+str(planet['circunferencia']['polar']) )"
   ]
  },
  {
   "cell_type": "markdown",
   "metadata": {},
   "source": [
    "### Programación dinámica de diccionarios"
   ]
  },
  {
   "cell_type": "code",
   "execution_count": 13,
   "metadata": {},
   "outputs": [
    {
     "name": "stdout",
     "output_type": "stream",
     "text": [
      "El número total de lunas del sistema solar es: 214\n",
      "El promedio de lunas del sistema solar es: 17.833333333333332\n"
     ]
    }
   ],
   "source": [
    "import statistics\n",
    "planet_moons = {\n",
    "    'mercury': 0,\n",
    "    'venus': 0,\n",
    "    'earth': 1,\n",
    "    'mars': 2,\n",
    "    'jupiter': 79,\n",
    "    'saturn': 82,\n",
    "    'uranus': 27,\n",
    "    'neptune': 14,\n",
    "    'pluto': 5,\n",
    "    'haumea': 2,\n",
    "    'makemake': 1,\n",
    "    'eris': 1\n",
    "}\n",
    "numero_lunas=0\n",
    "\n",
    "##Se calcula el total de lunas del sistema solar\n",
    "for lunas in planet_moons.values():\n",
    "    numero_lunas+=lunas\n",
    "\n",
    "\n",
    "print('El número total de lunas del sistema solar es: '+ str(numero_lunas))\n",
    "\n",
    "#Se clcula el promedio de la lista de valores\n",
    "print('El promedio de lunas del sistema solar es: '+ str(statistics.mean(planet_moons.values())))\n",
    "\n"
   ]
  }
 ],
 "metadata": {
  "interpreter": {
   "hash": "a754736ac4e3f9e52bc85e35060990a57dded2c3c169eaa767769380f3d96905"
  },
  "kernelspec": {
   "display_name": "Python 3.10.2 64-bit",
   "language": "python",
   "name": "python3"
  },
  "language_info": {
   "codemirror_mode": {
    "name": "ipython",
    "version": 3
   },
   "file_extension": ".py",
   "mimetype": "text/x-python",
   "name": "python",
   "nbconvert_exporter": "python",
   "pygments_lexer": "ipython3",
   "version": "3.10.2"
  },
  "orig_nbformat": 4
 },
 "nbformat": 4,
 "nbformat_minor": 2
}
