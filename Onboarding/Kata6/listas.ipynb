{
 "cells": [
  {
   "cell_type": "code",
   "execution_count": null,
   "metadata": {},
   "outputs": [],
   "source": []
  },
  {
   "cell_type": "markdown",
   "metadata": {},
   "source": [
    "## Uso de listas"
   ]
  },
  {
   "cell_type": "markdown",
   "metadata": {},
   "source": [
    "### Crear lista e imprimir numero de planetas"
   ]
  },
  {
   "cell_type": "code",
   "execution_count": 2,
   "metadata": {},
   "outputs": [
    {
     "name": "stdout",
     "output_type": "stream",
     "text": [
      "8\n"
     ]
    }
   ],
   "source": [
    "planets=[\"mercurio\", \"venus\", \"tierra\", \"marte\", \"jupiter\", \"saturno\", \"urano\", \"neptuno\"]\n",
    "\n",
    "print(len(planets))"
   ]
  },
  {
   "cell_type": "markdown",
   "metadata": {},
   "source": [
    "### Mostrar ultimo planeta de la lista"
   ]
  },
  {
   "cell_type": "code",
   "execution_count": 3,
   "metadata": {},
   "outputs": [
    {
     "name": "stdout",
     "output_type": "stream",
     "text": [
      "El último planeta de la lista es: pluton\n"
     ]
    }
   ],
   "source": [
    "planets.append(\"plutón\")\n",
    "\n",
    "print(\"El último planeta de la lista es: \" + planets[-1])"
   ]
  },
  {
   "cell_type": "markdown",
   "metadata": {},
   "source": [
    "### Encontrar un planeta en la lista"
   ]
  },
  {
   "cell_type": "code",
   "execution_count": 10,
   "metadata": {},
   "outputs": [
    {
     "name": "stdout",
     "output_type": "stream",
     "text": [
      "El planeta no se encuentra en el sistema solar\n"
     ]
    }
   ],
   "source": [
    "planetaUser= input('Escribe el nombre de un planeta para buscarlo en la lista')\n",
    "\n",
    "indicePlaneta=0\n",
    "try:\n",
    "  indicePlaneta = planets.index(planetaUser)\n",
    "except:\n",
    "  indicePlaneta = -1\n",
    "if indicePlaneta>0:\n",
    "    print(planetaUser + 'es el ', str(indicePlaneta) + 1, '° planeta en el sistema solar ')\n",
    "else:\n",
    "    print('El planeta no se encuentra en el sistema solar')"
   ]
  },
  {
   "cell_type": "markdown",
   "metadata": {},
   "source": [
    "### Planetas más cercanos al sol"
   ]
  },
  {
   "cell_type": "code",
   "execution_count": 18,
   "metadata": {},
   "outputs": [
    {
     "name": "stdout",
     "output_type": "stream",
     "text": [
      "Los planetas más cercanos al sol que urano son: ['mercurio', 'venus', 'tierra', 'marte', 'jupiter', 'saturno']\n",
      "Los planetas más lejanos al sol que urano son: ['neptuno']\n"
     ]
    }
   ],
   "source": [
    "planetaUser= input('Escribe el nombre de un planeta para buscarlo en la lista')\n",
    "\n",
    "indicePlaneta=0\n",
    "try:\n",
    "  indicePlaneta = planets.index(planetaUser)\n",
    "except:\n",
    "  indicePlaneta = -1\n",
    "if indicePlaneta>0:\n",
    "    print('Los planetas más cercanos al sol que '+planetaUser + ' son: '+ str(planets[0:indicePlaneta]))\n",
    "    print('Los planetas más lejanos al sol que '+planetaUser + ' son: '+ str(planets[indicePlaneta+1:-1]))\n",
    "else:\n",
    "    print('El planeta no se encuentra en el sistema solar')"
   ]
  }
 ],
 "metadata": {
  "interpreter": {
   "hash": "a754736ac4e3f9e52bc85e35060990a57dded2c3c169eaa767769380f3d96905"
  },
  "kernelspec": {
   "display_name": "Python 3.10.2 64-bit",
   "language": "python",
   "name": "python3"
  },
  "language_info": {
   "codemirror_mode": {
    "name": "ipython",
    "version": 3
   },
   "file_extension": ".py",
   "mimetype": "text/x-python",
   "name": "python",
   "nbconvert_exporter": "python",
   "pygments_lexer": "ipython3",
   "version": "3.10.2"
  },
  "orig_nbformat": 4
 },
 "nbformat": 4,
 "nbformat_minor": 2
}
