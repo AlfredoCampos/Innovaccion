{
 "cells": [
  {
   "cell_type": "code",
   "execution_count": null,
   "metadata": {},
   "outputs": [],
   "source": []
  },
  {
   "cell_type": "markdown",
   "metadata": {},
   "source": [
    "## Calcular distancia entre planetas"
   ]
  },
  {
   "cell_type": "code",
   "execution_count": 2,
   "metadata": {},
   "outputs": [
    {
     "name": "stdout",
     "output_type": "stream",
     "text": [
      "777949330\n"
     ]
    }
   ],
   "source": [
    "planeta1 = 597870\n",
    "planeta2 = 778547200\n",
    "\n",
    "print (abs(planeta1-planeta2))"
   ]
  },
  {
   "cell_type": "markdown",
   "metadata": {},
   "source": [
    "## Convertir a millas"
   ]
  },
  {
   "cell_type": "code",
   "execution_count": 7,
   "metadata": {},
   "outputs": [
    {
     "name": "stdout",
     "output_type": "stream",
     "text": [
      "la distancia es: 483106533.93 millas\n"
     ]
    }
   ],
   "source": [
    "print ('la distancia es: '+str(abs(planeta1-planeta2)*0.621) + ' millas')"
   ]
  },
  {
   "cell_type": "markdown",
   "metadata": {},
   "source": [
    "## Calcular la distancia a l sol de dos planetas con Input"
   ]
  },
  {
   "cell_type": "code",
   "execution_count": 10,
   "metadata": {},
   "outputs": [
    {
     "name": "stdout",
     "output_type": "stream",
     "text": [
      "la distancia entre planetas es: 900\n"
     ]
    }
   ],
   "source": [
    "d_planeta1=input('introduce la distancia del primer planeta respecto al sol')\n",
    "d_planeta2=input('introduce la distancia del segindo planeta respecto al sol')\n",
    "\n",
    "distancia=abs(int(d_planeta1)-int(d_planeta2))\n",
    "print('la distancia entre planetas es: '+ str(distancia)+ 'km')"
   ]
  }
 ],
 "metadata": {
  "interpreter": {
   "hash": "a754736ac4e3f9e52bc85e35060990a57dded2c3c169eaa767769380f3d96905"
  },
  "kernelspec": {
   "display_name": "Python 3.10.2 64-bit",
   "language": "python",
   "name": "python3"
  },
  "language_info": {
   "codemirror_mode": {
    "name": "ipython",
    "version": 3
   },
   "file_extension": ".py",
   "mimetype": "text/x-python",
   "name": "python",
   "nbconvert_exporter": "python",
   "pygments_lexer": "ipython3",
   "version": "3.10.2"
  },
  "orig_nbformat": 4
 },
 "nbformat": 4,
 "nbformat_minor": 2
}
