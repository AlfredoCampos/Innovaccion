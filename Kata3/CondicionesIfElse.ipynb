{
 "cells": [
  {
   "cell_type": "code",
   "execution_count": null,
   "metadata": {},
   "outputs": [],
   "source": []
  },
  {
   "cell_type": "markdown",
   "metadata": {},
   "source": [
    "## Advertencia Asteroide"
   ]
  },
  {
   "cell_type": "code",
   "execution_count": 1,
   "metadata": {},
   "outputs": [
    {
     "name": "stdout",
     "output_type": "stream",
     "text": [
      "¡Peligro! Asteroide aproximandose a 49 km/s\n"
     ]
    }
   ],
   "source": [
    "vel_asteroide=49\n",
    "if vel_asteroide>25:\n",
    "    print('¡Peligro! Asteroide aproximandose a '+ str(vel_asteroide)+' km/s' )"
   ]
  },
  {
   "cell_type": "markdown",
   "metadata": {},
   "source": [
    "## Rayo de luz asteroide"
   ]
  },
  {
   "cell_type": "code",
   "execution_count": null,
   "metadata": {},
   "outputs": [],
   "source": [
    "vel_asteroide=19\n",
    "if vel_asteroide>20:\n",
    "    print('Mira el rayo de luz en el cielo')\n",
    "elif vel_asteroide==20:\n",
    "    print('Mira el rayo de luz en el cielo')\n",
    "else:\n",
    "    print('Nada que ver en el cielo')"
   ]
  },
  {
   "cell_type": "markdown",
   "metadata": {},
   "source": [
    "## Velocidad y tamaño del asteroide"
   ]
  },
  {
   "cell_type": "code",
   "execution_count": 11,
   "metadata": {},
   "outputs": [
    {
     "name": "stdout",
     "output_type": "stream",
     "text": [
      "Código rojo! Ateroide de 26 metros se aproxima a la tierra a una velocidad de 26km/s\n"
     ]
    }
   ],
   "source": [
    "vel_asteroide=26\n",
    "tam_asteroide=26\n",
    "if tam_asteroide>25 and tam_asteroide <1000 and vel_asteroide>25:\n",
    "    print('Código rojo! Ateroide de '+str(tam_asteroide)+' metros se aproxima a la tierra a una velocidad de '+ str(vel_asteroide) + 'km/s' )\n",
    "elif tam_asteroide<25 and vel_asteroide>25:\n",
    "    print ('Código Naranja! Asteroide acercandose demasiado rápido a la tierra')\n",
    "elif vel_asteroide>20:\n",
    "    print ('Atención! Luces en el cielo')\n",
    "else:\n",
    "    print ('Estatus: Sin novedad')\n"
   ]
  }
 ],
 "metadata": {
  "interpreter": {
   "hash": "a754736ac4e3f9e52bc85e35060990a57dded2c3c169eaa767769380f3d96905"
  },
  "kernelspec": {
   "display_name": "Python 3.10.2 64-bit",
   "language": "python",
   "name": "python3"
  },
  "language_info": {
   "codemirror_mode": {
    "name": "ipython",
    "version": 3
   },
   "file_extension": ".py",
   "mimetype": "text/x-python",
   "name": "python",
   "nbconvert_exporter": "python",
   "pygments_lexer": "ipython3",
   "version": "3.10.2"
  },
  "orig_nbformat": 4
 },
 "nbformat": 4,
 "nbformat_minor": 2
}
